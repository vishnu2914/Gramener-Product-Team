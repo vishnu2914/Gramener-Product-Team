{
 "cells": [
  {
   "cell_type": "markdown",
   "metadata": {},
   "source": [
    "# India Census Data Analysis"
   ]
  },
  {
   "cell_type": "code",
   "execution_count": 1,
   "metadata": {
    "collapsed": true
   },
   "outputs": [],
   "source": [
    "# Import pandas as pd\n",
    "import pandas as pd\n",
    "\n",
    "# Import numpy as np\n",
    "import numpy as np\n",
    "\n",
    "# Import matplotlib.pyplot as plt\n",
    "import matplotlib.pyplot as plt"
   ]
  },
  {
   "cell_type": "code",
   "execution_count": 2,
   "metadata": {
    "collapsed": true
   },
   "outputs": [],
   "source": [
    "# Import the india-districts-census-2011.csv data: India_census\n",
    "india_census = pd.read_csv(\"C:/Users/Vishnu14/Desktop/Gramener Solution/india-districts-census-2011.csv\")"
   ]
  },
  {
   "cell_type": "code",
   "execution_count": 4,
   "metadata": {},
   "outputs": [
    {
     "name": "stdout",
     "output_type": "stream",
     "text": [
      "   District code       State name District name  Population    Male  Female  \\\n",
      "0              1  JAMMU & KASHMIR       Kupwara      870354  474190  396164   \n",
      "1              2  JAMMU & KASHMIR        Badgam      753745  398041  355704   \n",
      "2              3  JAMMU & KASHMIR   Leh(Ladakh)      133487   78971   54516   \n",
      "3              4  JAMMU & KASHMIR        Kargil      140802   77785   63017   \n",
      "4              5  JAMMU & KASHMIR         Punch      476835  251899  224936   \n",
      "\n",
      "   Literate  Male_Literate  Female_Literate    SC         ...          \\\n",
      "0    439654         282823           156831  1048         ...           \n",
      "1    335649         207741           127908   368         ...           \n",
      "2     93770          62834            30936   488         ...           \n",
      "3     86236          56301            29935    18         ...           \n",
      "4    261724         163333            98391   556         ...           \n",
      "\n",
      "   Power_Parity_Rs_90000_150000  Power_Parity_Rs_45000_150000  \\\n",
      "0                            94                           588   \n",
      "1                           126                           562   \n",
      "2                            46                           122   \n",
      "3                            27                           114   \n",
      "4                            78                           346   \n",
      "\n",
      "   Power_Parity_Rs_150000_240000  Power_Parity_Rs_240000_330000  \\\n",
      "0                             71                            101   \n",
      "1                             72                             89   \n",
      "2                             15                             22   \n",
      "3                             12                             18   \n",
      "4                             35                             50   \n",
      "\n",
      "   Power_Parity_Rs_150000_330000  Power_Parity_Rs_330000_425000  \\\n",
      "0                            172                             74   \n",
      "1                            161                             96   \n",
      "2                             37                             20   \n",
      "3                             30                             19   \n",
      "4                             85                             59   \n",
      "\n",
      "   Power_Parity_Rs_425000_545000  Power_Parity_Rs_330000_545000  \\\n",
      "0                             10                             84   \n",
      "1                             28                            124   \n",
      "2                             14                             34   \n",
      "3                              3                             22   \n",
      "4                              8                             67   \n",
      "\n",
      "   Power_Parity_Above_Rs_545000  Total_Power_Parity  \n",
      "0                            15                1119  \n",
      "1                            18                1066  \n",
      "2                            17                 242  \n",
      "3                             7                 214  \n",
      "4                            12                 629  \n",
      "\n",
      "[5 rows x 118 columns]\n"
     ]
    }
   ],
   "source": [
    "# Print out the India_census data\n",
    "print(india_census.head(5))"
   ]
  },
  {
   "cell_type": "code",
   "execution_count": 5,
   "metadata": {},
   "outputs": [
    {
     "name": "stdout",
     "output_type": "stream",
     "text": [
      "       District code    Population          Male        Female      Literate  \\\n",
      "count     640.000000  6.400000e+02  6.400000e+02  6.400000e+02  6.400000e+02   \n",
      "mean      320.500000  1.891961e+06  9.738598e+05  9.181011e+05  1.193186e+06   \n",
      "std       184.896367  1.544380e+06  8.007785e+05  7.449864e+05  1.068583e+06   \n",
      "min         1.000000  8.004000e+03  4.414000e+03  3.590000e+03  4.436000e+03   \n",
      "25%       160.750000  8.178610e+05  4.171682e+05  4.017458e+05  4.825982e+05   \n",
      "50%       320.500000  1.557367e+06  7.986815e+05  7.589200e+05  9.573465e+05   \n",
      "75%       480.250000  2.583551e+06  1.338604e+06  1.264277e+06  1.602260e+06   \n",
      "max       640.000000  1.106015e+07  5.865078e+06  5.195070e+06  8.227161e+06   \n",
      "\n",
      "       Male_Literate  Female_Literate            SC       Male_SC  \\\n",
      "count   6.400000e+02     6.400000e+02  6.400000e+02  6.400000e+02   \n",
      "mean    6.793182e+05     5.138675e+05  3.146537e+05  1.617739e+05   \n",
      "std     5.924144e+05     4.801816e+05  3.129818e+05  1.611216e+05   \n",
      "min     2.614000e+03     1.822000e+03  0.000000e+00  0.000000e+00   \n",
      "25%     2.764365e+05     2.008920e+05  8.320850e+04  4.230700e+04   \n",
      "50%     5.483525e+05     4.038590e+05  2.460160e+05  1.255485e+05   \n",
      "75%     9.188582e+05     6.641550e+05  4.477078e+05  2.284602e+05   \n",
      "max     4.591396e+06     3.635765e+06  2.464032e+06  1.266504e+06   \n",
      "\n",
      "          Female_SC         ...          Power_Parity_Rs_90000_150000  \\\n",
      "count  6.400000e+02         ...                            640.000000   \n",
      "mean   1.528798e+05         ...                            786.046875   \n",
      "std    1.520336e+05         ...                           1038.854733   \n",
      "min    0.000000e+00         ...                              0.000000   \n",
      "25%    4.267175e+04         ...                            236.750000   \n",
      "50%    1.178550e+05         ...                            518.000000   \n",
      "75%    2.140502e+05         ...                            941.250000   \n",
      "max    1.197528e+06         ...                          10334.000000   \n",
      "\n",
      "       Power_Parity_Rs_45000_150000  Power_Parity_Rs_150000_240000  \\\n",
      "count                    640.000000                     640.000000   \n",
      "mean                    1696.456250                     294.000000   \n",
      "std                     1720.535151                     638.345281   \n",
      "min                        0.000000                       0.000000   \n",
      "25%                      589.000000                      59.000000   \n",
      "50%                     1220.500000                     149.000000   \n",
      "75%                     2233.250000                     296.500000   \n",
      "max                    13819.000000                   10835.000000   \n",
      "\n",
      "       Power_Parity_Rs_240000_330000  Power_Parity_Rs_150000_330000  \\\n",
      "count                     640.000000                     640.000000   \n",
      "mean                      215.300000                     509.300000   \n",
      "std                       362.684243                     968.538748   \n",
      "min                         0.000000                       0.000000   \n",
      "25%                        24.750000                      95.000000   \n",
      "50%                       118.500000                     278.000000   \n",
      "75%                       262.000000                     564.500000   \n",
      "max                      3595.000000                   14430.000000   \n",
      "\n",
      "       Power_Parity_Rs_330000_425000  Power_Parity_Rs_425000_545000  \\\n",
      "count                     640.000000                     640.000000   \n",
      "mean                      194.204688                     261.245313   \n",
      "std                       424.108001                     587.279450   \n",
      "min                         0.000000                       0.000000   \n",
      "25%                        19.000000                      21.000000   \n",
      "50%                        84.000000                      85.500000   \n",
      "75%                       213.250000                     293.000000   \n",
      "max                      5027.000000                    7597.000000   \n",
      "\n",
      "       Power_Parity_Rs_330000_545000  Power_Parity_Above_Rs_545000  \\\n",
      "count                     640.000000                    640.000000   \n",
      "mean                      455.450000                    279.631250   \n",
      "std                      1007.364839                   1050.934537   \n",
      "min                         0.000000                      0.000000   \n",
      "25%                        44.000000                     18.000000   \n",
      "50%                       186.500000                     60.500000   \n",
      "75%                       497.000000                    215.500000   \n",
      "max                     12624.000000                  18289.000000   \n",
      "\n",
      "       Total_Power_Parity  \n",
      "count          640.000000  \n",
      "mean          3315.412500  \n",
      "std           4638.568719  \n",
      "min              9.000000  \n",
      "25%           1024.250000  \n",
      "50%           2238.500000  \n",
      "75%           3959.000000  \n",
      "max          60163.000000  \n",
      "\n",
      "[8 rows x 116 columns]\n"
     ]
    }
   ],
   "source": [
    "# Print out the Summary Statistics\n",
    "print(india_census.describe())"
   ]
  },
  {
   "cell_type": "code",
   "execution_count": null,
   "metadata": {
    "collapsed": true
   },
   "outputs": [],
   "source": []
  }
 ],
 "metadata": {
  "kernelspec": {
   "display_name": "Python 3",
   "language": "python",
   "name": "python3"
  },
  "language_info": {
   "codemirror_mode": {
    "name": "ipython",
    "version": 3
   },
   "file_extension": ".py",
   "mimetype": "text/x-python",
   "name": "python",
   "nbconvert_exporter": "python",
   "pygments_lexer": "ipython3",
   "version": "3.6.3"
  }
 },
 "nbformat": 4,
 "nbformat_minor": 2
}
